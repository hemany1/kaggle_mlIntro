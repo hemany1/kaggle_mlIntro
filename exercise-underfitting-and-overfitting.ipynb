{
 "cells": [
  {
   "cell_type": "markdown",
   "id": "45354348",
   "metadata": {
    "papermill": {
     "duration": 0.005108,
     "end_time": "2022-09-14T16:55:01.467031",
     "exception": false,
     "start_time": "2022-09-14T16:55:01.461923",
     "status": "completed"
    },
    "tags": []
   },
   "source": [
    "**This notebook is an exercise in the [Introduction to Machine Learning](https://www.kaggle.com/learn/intro-to-machine-learning) course.  You can reference the tutorial at [this link](https://www.kaggle.com/dansbecker/underfitting-and-overfitting).**\n",
    "\n",
    "---\n"
   ]
  },
  {
   "cell_type": "markdown",
   "id": "edf7543e",
   "metadata": {
    "papermill": {
     "duration": 0.003722,
     "end_time": "2022-09-14T16:55:01.474997",
     "exception": false,
     "start_time": "2022-09-14T16:55:01.471275",
     "status": "completed"
    },
    "tags": []
   },
   "source": [
    "## Recap\n",
    "You've built your first model, and now it's time to optimize the size of the tree to make better predictions. Run this cell to set up your coding environment where the previous step left off."
   ]
  },
  {
   "cell_type": "code",
   "execution_count": null,
   "id": "fca8ba24",
   "metadata": {
    "papermill": {
     "duration": 0.003772,
     "end_time": "2022-09-14T16:55:01.482830",
     "exception": false,
     "start_time": "2022-09-14T16:55:01.479058",
     "status": "completed"
    },
    "tags": []
   },
   "outputs": [],
   "source": []
  },
  {
   "cell_type": "code",
   "execution_count": 1,
   "id": "d4cf6cc7",
   "metadata": {
    "execution": {
     "iopub.execute_input": "2022-09-14T16:55:01.492899Z",
     "iopub.status.busy": "2022-09-14T16:55:01.492427Z",
     "iopub.status.idle": "2022-09-14T16:55:02.873621Z",
     "shell.execute_reply": "2022-09-14T16:55:02.872634Z"
    },
    "papermill": {
     "duration": 1.390327,
     "end_time": "2022-09-14T16:55:02.877147",
     "exception": false,
     "start_time": "2022-09-14T16:55:01.486820",
     "status": "completed"
    },
    "tags": []
   },
   "outputs": [
    {
     "name": "stdout",
     "output_type": "stream",
     "text": [
      "Validation MAE: 29,653\n",
      "\n",
      "Setup complete\n"
     ]
    }
   ],
   "source": [
    "# Code you have previously used to load data\n",
    "import pandas as pd\n",
    "from sklearn.metrics import mean_absolute_error\n",
    "from sklearn.model_selection import train_test_split\n",
    "from sklearn.tree import DecisionTreeRegressor\n",
    "\n",
    "\n",
    "# Path of the file to read\n",
    "iowa_file_path = '../input/home-data-for-ml-course/train.csv'\n",
    "\n",
    "home_data = pd.read_csv(iowa_file_path)\n",
    "# Create target object and call it y\n",
    "y = home_data.SalePrice\n",
    "# Create X\n",
    "features = ['LotArea', 'YearBuilt', '1stFlrSF', '2ndFlrSF', 'FullBath', 'BedroomAbvGr', 'TotRmsAbvGrd']\n",
    "X = home_data[features]\n",
    "\n",
    "# Split into validation and training data\n",
    "train_X, val_X, train_y, val_y = train_test_split(X, y, random_state=1)\n",
    "\n",
    "# Specify Model\n",
    "iowa_model = DecisionTreeRegressor(random_state=1)\n",
    "# Fit Model\n",
    "iowa_model.fit(train_X, train_y)\n",
    "\n",
    "# Make validation predictions and calculate mean absolute error\n",
    "val_predictions = iowa_model.predict(val_X)\n",
    "val_mae = mean_absolute_error(val_predictions, val_y)\n",
    "print(\"Validation MAE: {:,.0f}\".format(val_mae))\n",
    "\n",
    "# Set up code checking\n",
    "from learntools.core import binder\n",
    "binder.bind(globals())\n",
    "from learntools.machine_learning.ex5 import *\n",
    "print(\"\\nSetup complete\")"
   ]
  },
  {
   "cell_type": "markdown",
   "id": "b451efd2",
   "metadata": {
    "papermill": {
     "duration": 0.004505,
     "end_time": "2022-09-14T16:55:02.887321",
     "exception": false,
     "start_time": "2022-09-14T16:55:02.882816",
     "status": "completed"
    },
    "tags": []
   },
   "source": [
    "# Exercises\n",
    "You could write the function `get_mae` yourself. For now, we'll supply it. This is the same function you read about in the previous lesson. Just run the cell below."
   ]
  },
  {
   "cell_type": "code",
   "execution_count": 2,
   "id": "8fced862",
   "metadata": {
    "execution": {
     "iopub.execute_input": "2022-09-14T16:55:02.902255Z",
     "iopub.status.busy": "2022-09-14T16:55:02.901083Z",
     "iopub.status.idle": "2022-09-14T16:55:02.908114Z",
     "shell.execute_reply": "2022-09-14T16:55:02.906820Z"
    },
    "papermill": {
     "duration": 0.017816,
     "end_time": "2022-09-14T16:55:02.910764",
     "exception": false,
     "start_time": "2022-09-14T16:55:02.892948",
     "status": "completed"
    },
    "tags": []
   },
   "outputs": [],
   "source": [
    "def get_mae(max_leaf_nodes, train_X, val_X, train_y, val_y):\n",
    "    model = DecisionTreeRegressor(max_leaf_nodes=max_leaf_nodes, random_state=0)\n",
    "    model.fit(train_X, train_y)\n",
    "    preds_val = model.predict(val_X)\n",
    "    mae = mean_absolute_error(val_y, preds_val)\n",
    "    return(mae)"
   ]
  },
  {
   "cell_type": "markdown",
   "id": "7f7a816c",
   "metadata": {
    "papermill": {
     "duration": 0.003732,
     "end_time": "2022-09-14T16:55:02.918744",
     "exception": false,
     "start_time": "2022-09-14T16:55:02.915012",
     "status": "completed"
    },
    "tags": []
   },
   "source": [
    "## Step 1: Compare Different Tree Sizes\n",
    "Write a loop that tries the following values for *max_leaf_nodes* from a set of possible values.\n",
    "\n",
    "Call the *get_mae* function on each value of max_leaf_nodes. Store the output in some way that allows you to select the value of `max_leaf_nodes` that gives the most accurate model on your data."
   ]
  },
  {
   "cell_type": "code",
   "execution_count": 3,
   "id": "a6bc979f",
   "metadata": {
    "execution": {
     "iopub.execute_input": "2022-09-14T16:55:02.928926Z",
     "iopub.status.busy": "2022-09-14T16:55:02.928081Z",
     "iopub.status.idle": "2022-09-14T16:55:02.976782Z",
     "shell.execute_reply": "2022-09-14T16:55:02.975487Z"
    },
    "papermill": {
     "duration": 0.056576,
     "end_time": "2022-09-14T16:55:02.979348",
     "exception": false,
     "start_time": "2022-09-14T16:55:02.922772",
     "status": "completed"
    },
    "tags": []
   },
   "outputs": [
    {
     "data": {
      "text/plain": [
       "100"
      ]
     },
     "execution_count": 3,
     "metadata": {},
     "output_type": "execute_result"
    }
   ],
   "source": [
    "candidate_max_leaf_nodes = [5, 25, 50, 100, 250, 500]\n",
    "# Write loop to find the ideal tree size from candidate_max_leaf_nodes\n",
    "dic = dict()\n",
    "for i in candidate_max_leaf_nodes:\n",
    "    mae = get_mae(i, train_X, val_X, train_y, val_y)\n",
    "    dic[mae] = i\n",
    "dic[min(dic)]"
   ]
  },
  {
   "cell_type": "code",
   "execution_count": 4,
   "id": "136eed8d",
   "metadata": {
    "execution": {
     "iopub.execute_input": "2022-09-14T16:55:02.989974Z",
     "iopub.status.busy": "2022-09-14T16:55:02.989561Z",
     "iopub.status.idle": "2022-09-14T16:55:03.038175Z",
     "shell.execute_reply": "2022-09-14T16:55:03.036911Z"
    },
    "papermill": {
     "duration": 0.056524,
     "end_time": "2022-09-14T16:55:03.040609",
     "exception": false,
     "start_time": "2022-09-14T16:55:02.984085",
     "status": "completed"
    },
    "tags": []
   },
   "outputs": [
    {
     "data": {
      "application/javascript": [
       "parent.postMessage({\"jupyterEvent\": \"custom.exercise_interaction\", \"data\": {\"outcomeType\": 1, \"valueTowardsCompletion\": 0.5, \"interactionType\": 1, \"questionType\": 1, \"questionId\": \"1_BestTreeSize\", \"learnToolsVersion\": \"0.3.4\", \"failureMessage\": \"\", \"exceptionClass\": \"\", \"trace\": \"\"}}, \"*\")"
      ],
      "text/plain": [
       "<IPython.core.display.Javascript object>"
      ]
     },
     "metadata": {},
     "output_type": "display_data"
    },
    {
     "data": {
      "text/markdown": [
       "<span style=\"color:#33cc33\">Correct</span>"
      ],
      "text/plain": [
       "Correct"
      ]
     },
     "metadata": {},
     "output_type": "display_data"
    }
   ],
   "source": [
    "candidate_max_leaf_nodes = [5, 25, 50, 100, 250, 500]\n",
    "# Write loop to find the ideal tree size from candidate_max_leaf_nodes\n",
    "dic = dict()\n",
    "for i in candidate_max_leaf_nodes:\n",
    "    mae = get_mae(i, train_X, val_X, train_y, val_y)\n",
    "    dic[mae] = i\n",
    "    \n",
    "\n",
    "# Store the best value of max_leaf_nodes (it will be either 5, 25, 50, 100, 250 or 500)\n",
    "best_tree_size = dic[min(dic)]\n",
    "\n",
    "# Check your answer\n",
    "step_1.check()"
   ]
  },
  {
   "cell_type": "code",
   "execution_count": 5,
   "id": "616f97bf",
   "metadata": {
    "execution": {
     "iopub.execute_input": "2022-09-14T16:55:03.051630Z",
     "iopub.status.busy": "2022-09-14T16:55:03.050867Z",
     "iopub.status.idle": "2022-09-14T16:55:03.060960Z",
     "shell.execute_reply": "2022-09-14T16:55:03.059915Z"
    },
    "papermill": {
     "duration": 0.018109,
     "end_time": "2022-09-14T16:55:03.063245",
     "exception": false,
     "start_time": "2022-09-14T16:55:03.045136",
     "status": "completed"
    },
    "tags": []
   },
   "outputs": [
    {
     "data": {
      "application/javascript": [
       "parent.postMessage({\"jupyterEvent\": \"custom.exercise_interaction\", \"data\": {\"interactionType\": 3, \"questionType\": 1, \"questionId\": \"1_BestTreeSize\", \"learnToolsVersion\": \"0.3.4\", \"valueTowardsCompletion\": 0.0, \"failureMessage\": \"\", \"exceptionClass\": \"\", \"trace\": \"\", \"outcomeType\": 4}}, \"*\")"
      ],
      "text/plain": [
       "<IPython.core.display.Javascript object>"
      ]
     },
     "metadata": {},
     "output_type": "display_data"
    },
    {
     "data": {
      "text/markdown": [
       "<span style=\"color:#33cc99\">Solution:</span> \n",
       "```python\n",
       "# Here is a short solution with a dict comprehension.\n",
       "# The lesson gives an example of how to do this with an explicit loop.\n",
       "scores = {leaf_size: get_mae(leaf_size, train_X, val_X, train_y, val_y) for leaf_size in candidate_max_leaf_nodes}\n",
       "best_tree_size = min(scores, key=scores.get)\n",
       "\n",
       "```"
      ],
      "text/plain": [
       "Solution: \n",
       "```python\n",
       "# Here is a short solution with a dict comprehension.\n",
       "# The lesson gives an example of how to do this with an explicit loop.\n",
       "scores = {leaf_size: get_mae(leaf_size, train_X, val_X, train_y, val_y) for leaf_size in candidate_max_leaf_nodes}\n",
       "best_tree_size = min(scores, key=scores.get)\n",
       "\n",
       "```"
      ]
     },
     "metadata": {},
     "output_type": "display_data"
    }
   ],
   "source": [
    "# The lines below will show you a hint or the solution.\n",
    "# step_1.hint() \n",
    "step_1.solution()"
   ]
  },
  {
   "cell_type": "markdown",
   "id": "114469a7",
   "metadata": {
    "papermill": {
     "duration": 0.004726,
     "end_time": "2022-09-14T16:55:03.072905",
     "exception": false,
     "start_time": "2022-09-14T16:55:03.068179",
     "status": "completed"
    },
    "tags": []
   },
   "source": [
    "## Step 2: Fit Model Using All Data\n",
    "You know the best tree size. If you were going to deploy this model in practice, you would make it even more accurate by using all of the data and keeping that tree size.  That is, you don't need to hold out the validation data now that you've made all your modeling decisions."
   ]
  },
  {
   "cell_type": "code",
   "execution_count": 6,
   "id": "3a9d2feb",
   "metadata": {
    "execution": {
     "iopub.execute_input": "2022-09-14T16:55:03.084623Z",
     "iopub.status.busy": "2022-09-14T16:55:03.083429Z",
     "iopub.status.idle": "2022-09-14T16:55:03.100411Z",
     "shell.execute_reply": "2022-09-14T16:55:03.099286Z"
    },
    "papermill": {
     "duration": 0.025232,
     "end_time": "2022-09-14T16:55:03.102816",
     "exception": false,
     "start_time": "2022-09-14T16:55:03.077584",
     "status": "completed"
    },
    "tags": []
   },
   "outputs": [
    {
     "data": {
      "application/javascript": [
       "parent.postMessage({\"jupyterEvent\": \"custom.exercise_interaction\", \"data\": {\"outcomeType\": 1, \"valueTowardsCompletion\": 0.5, \"interactionType\": 1, \"questionType\": 2, \"questionId\": \"2_FitModelWithAllData\", \"learnToolsVersion\": \"0.3.4\", \"failureMessage\": \"\", \"exceptionClass\": \"\", \"trace\": \"\"}}, \"*\")"
      ],
      "text/plain": [
       "<IPython.core.display.Javascript object>"
      ]
     },
     "metadata": {},
     "output_type": "display_data"
    },
    {
     "data": {
      "text/markdown": [
       "<span style=\"color:#33cc33\">Correct</span>"
      ],
      "text/plain": [
       "Correct"
      ]
     },
     "metadata": {},
     "output_type": "display_data"
    }
   ],
   "source": [
    "# Fill in argument to make optimal size and uncomment\n",
    "final_model = DecisionTreeRegressor(max_leaf_nodes=best_tree_size, random_state = 1)\n",
    "\n",
    "# fit the final model and uncomment the next two lines\n",
    "final_model.fit(X, y)\n",
    "\n",
    "# Check your answer\n",
    "step_2.check()"
   ]
  },
  {
   "cell_type": "code",
   "execution_count": 7,
   "id": "f8106bc1",
   "metadata": {
    "execution": {
     "iopub.execute_input": "2022-09-14T16:55:03.115281Z",
     "iopub.status.busy": "2022-09-14T16:55:03.114096Z",
     "iopub.status.idle": "2022-09-14T16:55:03.121905Z",
     "shell.execute_reply": "2022-09-14T16:55:03.121070Z"
    },
    "papermill": {
     "duration": 0.01606,
     "end_time": "2022-09-14T16:55:03.123966",
     "exception": false,
     "start_time": "2022-09-14T16:55:03.107906",
     "status": "completed"
    },
    "tags": []
   },
   "outputs": [
    {
     "data": {
      "application/javascript": [
       "parent.postMessage({\"jupyterEvent\": \"custom.exercise_interaction\", \"data\": {\"interactionType\": 3, \"questionType\": 2, \"questionId\": \"2_FitModelWithAllData\", \"learnToolsVersion\": \"0.3.4\", \"valueTowardsCompletion\": 0.0, \"failureMessage\": \"\", \"exceptionClass\": \"\", \"trace\": \"\", \"outcomeType\": 4}}, \"*\")"
      ],
      "text/plain": [
       "<IPython.core.display.Javascript object>"
      ]
     },
     "metadata": {},
     "output_type": "display_data"
    },
    {
     "data": {
      "text/markdown": [
       "<span style=\"color:#33cc99\">Solution:</span> \n",
       "```python\n",
       "# Fit the model with best_tree_size. Fill in argument to make optimal size\n",
       "final_model = DecisionTreeRegressor(max_leaf_nodes=best_tree_size, random_state=1)\n",
       "\n",
       "# fit the final model\n",
       "final_model.fit(X, y)\n",
       "```"
      ],
      "text/plain": [
       "Solution: \n",
       "```python\n",
       "# Fit the model with best_tree_size. Fill in argument to make optimal size\n",
       "final_model = DecisionTreeRegressor(max_leaf_nodes=best_tree_size, random_state=1)\n",
       "\n",
       "# fit the final model\n",
       "final_model.fit(X, y)\n",
       "```"
      ]
     },
     "metadata": {},
     "output_type": "display_data"
    }
   ],
   "source": [
    "# step_2.hint()\n",
    "step_2.solution()"
   ]
  },
  {
   "cell_type": "markdown",
   "id": "f34e9274",
   "metadata": {
    "papermill": {
     "duration": 0.004781,
     "end_time": "2022-09-14T16:55:03.133824",
     "exception": false,
     "start_time": "2022-09-14T16:55:03.129043",
     "status": "completed"
    },
    "tags": []
   },
   "source": [
    "You've tuned this model and improved your results. But we are still using Decision Tree models, which are not very sophisticated by modern machine learning standards. In the next step you will learn to use Random Forests to improve your models even more.\n",
    "\n",
    "# Keep Going\n",
    "\n",
    "You are ready for **[Random Forests](https://www.kaggle.com/dansbecker/random-forests).**\n"
   ]
  },
  {
   "cell_type": "markdown",
   "id": "36c8f777",
   "metadata": {
    "papermill": {
     "duration": 0.004725,
     "end_time": "2022-09-14T16:55:03.143658",
     "exception": false,
     "start_time": "2022-09-14T16:55:03.138933",
     "status": "completed"
    },
    "tags": []
   },
   "source": [
    "---\n",
    "\n",
    "\n",
    "\n",
    "\n",
    "*Have questions or comments? Visit the [Learn Discussion forum](https://www.kaggle.com/learn-forum/161285) to chat with other Learners.*"
   ]
  }
 ],
 "metadata": {
  "kernelspec": {
   "display_name": "Python 3",
   "language": "python",
   "name": "python3"
  },
  "language_info": {
   "codemirror_mode": {
    "name": "ipython",
    "version": 3
   },
   "file_extension": ".py",
   "mimetype": "text/x-python",
   "name": "python",
   "nbconvert_exporter": "python",
   "pygments_lexer": "ipython3",
   "version": "3.7.12"
  },
  "papermill": {
   "default_parameters": {},
   "duration": 11.874604,
   "end_time": "2022-09-14T16:55:03.870555",
   "environment_variables": {},
   "exception": null,
   "input_path": "__notebook__.ipynb",
   "output_path": "__notebook__.ipynb",
   "parameters": {},
   "start_time": "2022-09-14T16:54:51.995951",
   "version": "2.3.4"
  }
 },
 "nbformat": 4,
 "nbformat_minor": 5
}
